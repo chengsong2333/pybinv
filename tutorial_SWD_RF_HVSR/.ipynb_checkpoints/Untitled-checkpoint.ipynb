{
 "cells": [
  {
   "cell_type": "code",
   "execution_count": 1,
   "id": "fe745deb-ded2-4758-a9d3-b712100be193",
   "metadata": {},
   "outputs": [
    {
     "name": "stderr",
     "output_type": "stream",
     "text": [
      " MainProcess : INFO     |  Initiated target: RayleighDispersionPhase (ref: rdispph)\n",
      " MainProcess : INFO     |  Initiated target: PReceiverFunction (ref: prf)\n",
      " MainProcess : INFO     |  Initiated target: RayleighWaveEllipticity (ref: rwe)\n"
     ]
    },
    {
     "name": "stdout",
     "output_type": "stream",
     "text": [
      "-189.0493547829832\n",
      "-6360.997512569535\n",
      "-170.6534805544925\n",
      "3082.4636936705415\n",
      "[0.         0.01109595 0.98       0.00517438 0.005      0.01719449] 3082.4636936705415\n",
      "Current data path: results/data\n",
      "Outlier chains from file: None\n",
      "> Saving posterior distribution.\n",
      "results/data/c_models\n",
      "results/data/c_likes\n",
      "results/data/c_misfits\n",
      "results/data/c_noise\n",
      "results/data/c_vpvs\n",
      "results/data/c_ph\n"
     ]
    }
   ],
   "source": [
    "# #############################\n",
    "#\n",
    "# Copyright (C) 2018\n",
    "# Jennifer Dreiling   (dreiling@gfz-potsdam.de)\n",
    "#\n",
    "#\n",
    "# #############################\n",
    "\n",
    "import os\n",
    "# set os.environment variables to ensure that numerical computations\n",
    "# do not do multiprocessing !! Essential !! Do not change !\n",
    "os.environ[\"MKL_NUM_THREADS\"] = \"1\"\n",
    "os.environ[\"NUMEXPR_NUM_THREADS\"] = \"1\"\n",
    "os.environ[\"OMP_NUM_THREADS\"] = \"1\"\n",
    "import numpy as np\n",
    "import os.path as op\n",
    "import matplotlib\n",
    "matplotlib.use('PDF')\n",
    "\n",
    "from BayHunter import PlotFromStorage\n",
    "from BayHunter import Targets\n",
    "from BayHunter import utils\n",
    "from BayHunter import MCMC_Optimizer\n",
    "from BayHunter import ModelMatrix\n",
    "from BayHunter import SynthObs\n",
    "import logging\n",
    "\n",
    "\n",
    "#\n",
    "# console printout formatting\n",
    "#\n",
    "formatter = ' %(processName)-12s: %(levelname)-8s |  %(message)s'\n",
    "logging.basicConfig(format=formatter, level=logging.INFO)\n",
    "logger = logging.getLogger()\n",
    "\n",
    "\n",
    "#\n",
    "# ------------------------------------------------------------  obs SYNTH DATA\n",
    "#\n",
    "# Load priors and initparams from config.ini or simply create dictionaries.\n",
    "initfile = 'config.ini'\n",
    "priors, initparams = utils.load_params(initfile)\n",
    "\n",
    "# Load observed data (synthetic test data)\n",
    "xsw, _ysw = np.loadtxt('observed/st3_rdispph.dat').T\n",
    "xrf, _yrf = np.loadtxt('observed/st3_prf.dat').T\n",
    "xrwe, _yrwe = np.loadtxt('observed/st3_rwe.dat').T\n",
    "\n",
    "# add noise to create observed data\n",
    "# order of noise values (correlation, amplitude):\n",
    "# noise = [corr1, sigma1, corr2, sigma2] for 2 targets\n",
    "noise = [0.0, 0.012, 0.98, 0.005, 0.0, 0.02]\n",
    "ysw_err = SynthObs.compute_expnoise(_ysw, corr=noise[0], sigma=noise[1])\n",
    "ysw = _ysw + ysw_err\n",
    "yrf_err = SynthObs.compute_gaussnoise(_yrf, corr=noise[2], sigma=noise[3])\n",
    "yrf = _yrf + yrf_err\n",
    "yrwe_err = SynthObs.compute_expnoise(_yrwe, corr=noise[4], sigma=noise[5])\n",
    "yrwe = _yrwe + yrwe_err\n",
    "\n",
    "\n",
    "#\n",
    "# -------------------------------------------  get reference model for BayWatch\n",
    "#\n",
    "# Create truemodel only if you wish to have reference values in plots\n",
    "# and BayWatch. You ONLY need to assign the values in truemodel that you\n",
    "# wish to have visible.\n",
    "dep, vs = np.loadtxt('observed/st3_mod.dat', usecols=[0, 2], skiprows=1).T\n",
    "pdep = np.concatenate((np.repeat(dep, 2)[1:], [150]))\n",
    "pvs = np.repeat(vs, 2)\n",
    "\n",
    "truenoise = np.concatenate(([noise[0]], [np.std(ysw_err)],   # target 1\n",
    "                            [noise[2]], [np.std(yrf_err)],   # target 2\n",
    "                            [noise[3]], [np.std(yrwe_err)]))  # target 3\n",
    "\n",
    "explike = SynthObs.compute_explike(yobss=[ysw, yrf, yrwe], ymods=[_ysw, _yrf, _yrwe],\n",
    "                                   noise=truenoise, gauss=[False, True, False],\n",
    "                                   rcond=initparams['rcond'])\n",
    "truemodel = {'model': (pdep, pvs),\n",
    "             'nlays': 3,\n",
    "             'noise': truenoise,\n",
    "             'explike': explike,\n",
    "             }\n",
    "\n",
    "print(truenoise, explike)\n",
    "\n",
    "\n",
    "#\n",
    "#  -----------------------------------------------------------  DEFINE TARGETS\n",
    "#\n",
    "# Only pass x and y observed data to the Targets object which is matching\n",
    "# the data type. You can chose for SWD any combination of Rayleigh, Love, group\n",
    "# and phase velocity. Default is the fundamendal mode, but this can be updated.\n",
    "# For RF chose P or S. You can also use user defined targets or replace the\n",
    "# forward modeling plugin wih your own module.\n",
    "target1 = Targets.RayleighDispersionPhase(xsw, ysw, yerr=ysw_err)\n",
    "target2 = Targets.PReceiverFunction(xrf, yrf)\n",
    "target2.moddata.plugin.set_modelparams(gauss=1., water=0.01, p=6.4)\n",
    "target3 = Targets.RayleighWaveEllipticity(xrwe, yrwe, yerr=yrwe_err)\n",
    "# Join the targets. targets must be a list instance with all targets\n",
    "# you want to use for MCMC Bayesian inversion.\n",
    "targets = Targets.JointTarget(targets=[target1, target2, target3])\n",
    "\n",
    "\n",
    "#\n",
    "#  ---------------------------------------------------  Quick parameter update\n",
    "#\n",
    "# \"priors\" and \"initparams\" from config.ini are python dictionaries. You could\n",
    "# also simply define the dictionaries directly in the script, if you don't want\n",
    "# to use a config.ini file. Or update the dictionaries as follows, e.g. if you\n",
    "# have station specific values, etc.\n",
    "# See docs/bayhunter.pdf for explanation of parameters\n",
    "\n",
    "priors.update({'mohoest': (38, 4),  # optional, moho estimate (mean, std)\n",
    "               'rfnoise_corr': 0.98,\n",
    "               'swdnoise_corr': 0.,\n",
    "               'rwenoise_corr': 0.\n",
    "               # 'rfnoise_sigma': np.std(yrf_err),  # fixed to true value\n",
    "               # 'swdnoise_sigma': np.std(ysw_err),  # fixed to true value\n",
    "               })\n",
    "\n",
    "initparams.update({'nchains': 5,\n",
    "                   'iter_burnin': (2048 * 32),\n",
    "                   'iter_main': (2048 * 16),\n",
    "                   'propdist': (0.025, 0.025, 0.015, 0.005, 0.005),\n",
    "                   })\n",
    "\n",
    "\n",
    "#\n",
    "#  -------------------------------------------------------  MCMC BAY INVERSION\n",
    "#\n",
    "# Save configfile for baywatch. refmodel must not be defined.\n",
    "# utils.save_baywatch_config(targets, path='.', priors=priors,\n",
    "                           # initparams=initparams, refmodel=truemodel)\n",
    "# optimizer = MCMC_Optimizer(targets, initparams=initparams, priors=priors,\n",
    "                           # random_seed=None)\n",
    "# default for the number of threads is the amount of cpus == one chain per cpu.\n",
    "# if baywatch is True, inversion data is continuously send out (dtsend)\n",
    "# to be received by BayWatch (see below).\n",
    "# optimizer.mp_inversion(nthreads=6, baywatch=True, dtsend=1)\n",
    "\n",
    "\n",
    "#\n",
    "# #  ---------------------------------------------- Model resaving and plotting\n",
    "path = initparams['savepath']\n",
    "cfile = '%s_config.pkl' % initparams['station']\n",
    "configfile = op.join(path, 'data', cfile)\n",
    "obj = PlotFromStorage(configfile)\n",
    "# The final distributions will be saved with save_final_distribution.\n",
    "# Beforehand, outlier chains will be detected and excluded.\n",
    "# Outlier chains are defined as chains with a likelihood deviation\n",
    "# of dev * 100 % from the median posterior likelihood of the best chain.\n",
    "obj.save_final_distribution(maxmodels=100000, dev=0.05)\n",
    "# Save a selection of important plots\n",
    "# obj.save_plots(refmodel=truemodel)\n",
    "# obj.merge_pdfs()\n",
    "\n",
    "#\n",
    "# If you are only interested on the mean posterior velocity model, type:\n",
    "# file = op.join(initparams['savepath'], 'data/c_models.npy')\n",
    "# models = np.load(file)\n",
    "# singlemodels = ModelMatrix.get_singlemodels(models)\n",
    "# vs, dep = singlemodels['mean']\n",
    "\n",
    "#\n",
    "# #  ---------------------------------------------- WATCH YOUR INVERSION\n",
    "# if you want to use BayWatch, simply type \"baywatch .\" in the terminal in the\n",
    "# folder you saved your baywatch configfile or type the full path instead\n",
    "# of \".\". Type \"baywatch --help\" for further options.\n",
    "\n",
    "# if you give your public address as option (default is local address of PC),\n",
    "# you can also use BayWatch via VPN from 'outside'.\n",
    "# address = '139.?.?.?'  # here your complete address !!!\n"
   ]
  },
  {
   "cell_type": "code",
   "execution_count": 4,
   "id": "c7283c4e-5772-4a17-b937-b277e416b141",
   "metadata": {},
   "outputs": [
    {
     "data": {
      "text/plain": [
       "<BayHunter.Targets.RayleighDispersionPhase at 0x7f3ee4070bb0>"
      ]
     },
     "execution_count": 4,
     "metadata": {},
     "output_type": "execute_result"
    }
   ],
   "source": [
    "targets.targets[0]"
   ]
  },
  {
   "cell_type": "code",
   "execution_count": 6,
   "id": "6113987b-a68e-4280-86c4-3e77bdf4521e",
   "metadata": {},
   "outputs": [
    {
     "ename": "NameError",
     "evalue": "name 'target' is not defined",
     "output_type": "error",
     "traceback": [
      "\u001b[0;31m---------------------------------------------------------------------------\u001b[0m",
      "\u001b[0;31mNameError\u001b[0m                                 Traceback (most recent call last)",
      "Input \u001b[0;32mIn [8]\u001b[0m, in \u001b[0;36m<cell line: 1>\u001b[0;34m()\u001b[0m\n\u001b[0;32m----> 1\u001b[0m \u001b[38;5;28;01mfor\u001b[39;00m itarget \u001b[38;5;129;01min\u001b[39;00m \u001b[43mtarget\u001b[49m:\n\u001b[1;32m      2\u001b[0m     \u001b[38;5;28mprint\u001b[39m(itarget\u001b[38;5;241m.\u001b[39mref)\n",
      "\u001b[0;31mNameError\u001b[0m: name 'target' is not defined"
     ]
    }
   ],
   "source": [
    "for itarget in targets.targets:\n",
    "    print(itarget.ref)"
   ]
  },
  {
   "cell_type": "code",
   "execution_count": null,
   "id": "c1f6ce71-71ea-4a00-83a9-d287fc6d05af",
   "metadata": {},
   "outputs": [
    {
     "data": {
      "text/plain": [
       "'rwe'"
      ]
     },
     "execution_count": 7,
     "metadata": {},
     "output_type": "execute_result"
    }
   ],
   "source": []
  }
 ],
 "metadata": {
  "kernelspec": {
   "display_name": "Python 3 (ipykernel)",
   "language": "python",
   "name": "python3"
  },
  "language_info": {
   "codemirror_mode": {
    "name": "ipython",
    "version": 3
   },
   "file_extension": ".py",
   "mimetype": "text/x-python",
   "name": "python",
   "nbconvert_exporter": "python",
   "pygments_lexer": "ipython3",
   "version": "3.8.12"
  }
 },
 "nbformat": 4,
 "nbformat_minor": 5
}
